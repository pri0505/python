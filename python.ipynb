{
  "nbformat": 4,
  "nbformat_minor": 0,
  "metadata": {
    "colab": {
      "provenance": []
    },
    "kernelspec": {
      "name": "python3",
      "display_name": "Python 3"
    },
    "language_info": {
      "name": "python"
    }
  },
  "cells": [
    {
      "cell_type": "code",
      "execution_count": 1,
      "metadata": {
        "colab": {
          "base_uri": "https://localhost:8080/"
        },
        "id": "OEG7ZmrnHFMH",
        "outputId": "edc3b5d8-41c7-4c8d-8b54-745c991e1274"
      },
      "outputs": [
        {
          "output_type": "stream",
          "name": "stdout",
          "text": [
            "apbqcr\n"
          ]
        }
      ],
      "source": [
        "Word1 = \"abc\"\n",
        "Word2 = \"pqr\"\n",
        "result = ''.join(a + b for a, b in zip(Word1, Word2))\n",
        "print(result)\n",
        ""
      ]
    },
    {
      "cell_type": "code",
      "source": [
        "Word1 = \"abc\"\n",
        "Word2 = \"pqrs\"\n",
        "\n",
        "result = ''.join(a + b for a, b in zip(Word1[:-1], Word2)) + Word2[len(Word1)-1:]\n",
        "\n",
        "print(result)"
      ],
      "metadata": {
        "colab": {
          "base_uri": "https://localhost:8080/"
        },
        "id": "28ttGC_rLElJ",
        "outputId": "435105ba-07cf-4e97-d051-3da9f53118f3"
      },
      "execution_count": 6,
      "outputs": [
        {
          "output_type": "stream",
          "name": "stdout",
          "text": [
            "apbqrs\n"
          ]
        }
      ]
    },
    {
      "cell_type": "code",
      "source": [
        "Word1 = \"abcd\"\n",
        "Word2 = \"pq\"\n",
        "\n",
        "result = ''.join(a + b for a, b in zip(Word1, Word2)) + Word1[len(Word2):]\n",
        "\n",
        "print(result)"
      ],
      "metadata": {
        "colab": {
          "base_uri": "https://localhost:8080/"
        },
        "id": "fQKh1_toLMnF",
        "outputId": "618fdb74-99dd-49c0-8475-2e68f15d7974"
      },
      "execution_count": 7,
      "outputs": [
        {
          "output_type": "stream",
          "name": "stdout",
          "text": [
            "apbqcd\n"
          ]
        }
      ]
    },
    {
      "cell_type": "code",
      "source": [
        "Str1 = \"ABCABC\"\n",
        "Str2 = \"ABC\"\n",
        "\n",
        "result = ''.join(c for c, d in zip(Str1, Str2) if c == d)\n",
        "\n",
        "print(result)"
      ],
      "metadata": {
        "colab": {
          "base_uri": "https://localhost:8080/"
        },
        "id": "8An6G5nEMDVa",
        "outputId": "65d735ce-9775-4cf6-9c46-ab102642e9c8"
      },
      "execution_count": 8,
      "outputs": [
        {
          "output_type": "stream",
          "name": "stdout",
          "text": [
            "ABC\n"
          ]
        }
      ]
    },
    {
      "cell_type": "code",
      "source": [
        "Str1 = \"ABABAB\"\n",
        "Str2 = \"ABAB\"\n",
        "\n",
        "for i in range(1, len(Str2) + 1):\n",
        "    if Str2[:i] * (len(Str2) // i) == Str2:\n",
        "        pattern = Str2[:i]\n",
        "        break\n",
        "\n",
        "print(pattern)"
      ],
      "metadata": {
        "colab": {
          "base_uri": "https://localhost:8080/"
        },
        "id": "_jeFv0Y-NIei",
        "outputId": "efd0bd5f-cd81-4fe6-c6ca-28b80b3a64e8"
      },
      "execution_count": 10,
      "outputs": [
        {
          "output_type": "stream",
          "name": "stdout",
          "text": [
            "AB\n"
          ]
        }
      ]
    },
    {
      "cell_type": "code",
      "source": [
        "Str1 = \"LEET\"\n",
        "Str2 = \"CODE\"\n",
        "\n",
        "result = ''.join(a for a, b in zip(Str1, Str2) if a == b)\n",
        "\n",
        "print(result)"
      ],
      "metadata": {
        "colab": {
          "base_uri": "https://localhost:8080/"
        },
        "id": "ymc8hxRHNRpA",
        "outputId": "deaae478-e03a-44cd-8d23-93dad5c2eeaf"
      },
      "execution_count": 11,
      "outputs": [
        {
          "output_type": "stream",
          "name": "stdout",
          "text": [
            "\n"
          ]
        }
      ]
    }
  ]
}